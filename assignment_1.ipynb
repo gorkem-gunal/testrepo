{
 "cells": [
  {
   "cell_type": "markdown",
   "id": "24ff81d2-c768-43e6-ba86-820af2a4b74d",
   "metadata": {},
   "source": [
    "# My Jupyter Notebook on IBM Watson Studio"
   ]
  },
  {
   "cell_type": "markdown",
   "id": "4399dadd-1e18-45c5-a4cf-92f9fb6e2e2b",
   "metadata": {},
   "source": [
    "**Mustafa Gorkem Gunal** <br>\n",
    "    Upcoming Data Analyst"
   ]
  },
  {
   "cell_type": "markdown",
   "id": "5c08ee19-4ea8-4030-ba1d-e46492969b4d",
   "metadata": {},
   "source": [
    "*I am interested in data science because I love to work with data*"
   ]
  },
  {
   "cell_type": "markdown",
   "id": "2940c187-3a95-46ec-b378-b860e4d18a23",
   "metadata": {},
   "source": [
    "### cell5 will Print a string \"Hello world!\" "
   ]
  },
  {
   "cell_type": "code",
   "execution_count": null,
   "id": "5f162405-95bf-4069-a2f1-9fc067944d05",
   "metadata": {},
   "outputs": [
    {
     "name": "stdout",
     "output_type": "stream",
     "text": [
      "Hello world!\n"
     ]
    }
   ],
   "source": [
    "print(\"Hello world!\")"
   ]
  },
  {
   "cell_type": "markdown",
   "id": "ea86c8b5-b5c5-4453-8bd7-b7e995e6ff4e",
   "metadata": {},
   "source": [
    "> Hi I am Gorkem <br>\n",
    "(*) *my github :* https://github.com/gorkem-gunal <br>\n",
    "(-) *my email :* mgorkemgunal@gmail.com "
   ]
  },
  {
   "cell_type": "code",
   "execution_count": null,
   "id": "37670fe8-54af-4aab-b9f3-6fc4c28bdee7",
   "metadata": {},
   "outputs": [],
   "source": []
  }
 ],
 "metadata": {
  "kernelspec": {
   "display_name": "Python",
   "language": "python",
   "name": "conda-env-python-py"
  },
  "language_info": {
   "codemirror_mode": {
    "name": "ipython",
    "version": 3
   },
   "file_extension": ".py",
   "mimetype": "text/x-python",
   "name": "python",
   "nbconvert_exporter": "python",
   "pygments_lexer": "ipython3",
   "version": "3.7.12"
  }
 },
 "nbformat": 4,
 "nbformat_minor": 5
}
